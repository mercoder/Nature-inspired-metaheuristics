{
  "nbformat": 4,
  "nbformat_minor": 0,
  "metadata": {
    "colab": {
      "name": "BATonKnapsack.ipynb",
      "provenance": []
    },
    "kernelspec": {
      "name": "python3",
      "display_name": "Python 3"
    }
  },
  "cells": [
    {
      "cell_type": "code",
      "metadata": {
        "colab": {
          "resources": {
            "http://localhost:8080/nbextensions/google.colab/files.js": {
              "data": "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",
              "ok": true,
              "headers": [
                [
                  "content-type",
                  "application/javascript"
                ]
              ],
              "status": 200,
              "status_text": ""
            }
          },
          "base_uri": "https://localhost:8080/",
          "height": 241
        },
        "id": "a94ys5hspWgJ",
        "outputId": "8e20ce46-40f9-4843-876b-0b266abbfea2"
      },
      "source": [
        "from google.colab import files\r\n",
        "\r\n",
        "uploaded = files.upload()\r\n",
        "\r\n",
        "for fn in uploaded.keys():\r\n",
        "  print('User uploaded file \"{name}\" with length {length} bytes'.format(\r\n",
        "      name=fn, length=len(uploaded[fn])))"
      ],
      "execution_count": 2,
      "outputs": [
        {
          "output_type": "display_data",
          "data": {
            "text/html": [
              "\n",
              "     <input type=\"file\" id=\"files-096e97ee-c4de-41af-b9d6-15cea52123fd\" name=\"files[]\" multiple disabled\n",
              "        style=\"border:none\" />\n",
              "     <output id=\"result-096e97ee-c4de-41af-b9d6-15cea52123fd\">\n",
              "      Upload widget is only available when the cell has been executed in the\n",
              "      current browser session. Please rerun this cell to enable.\n",
              "      </output>\n",
              "      <script src=\"/nbextensions/google.colab/files.js\"></script> "
            ],
            "text/plain": [
              "<IPython.core.display.HTML object>"
            ]
          },
          "metadata": {
            "tags": []
          }
        },
        {
          "output_type": "stream",
          "text": [
            "Saving large_scale.zip to large_scale.zip\n",
            "Saving large_scale-optimum.zip to large_scale-optimum.zip\n",
            "Saving low-dimensional.zip to low-dimensional.zip\n",
            "Saving low-dimensional-optimum.zip to low-dimensional-optimum.zip\n",
            "User uploaded file \"large_scale.zip\" with length 201698 bytes\n",
            "User uploaded file \"large_scale-optimum.zip\" with length 4337 bytes\n",
            "User uploaded file \"low-dimensional.zip\" with length 2603 bytes\n",
            "User uploaded file \"low-dimensional-optimum.zip\" with length 2145 bytes\n"
          ],
          "name": "stdout"
        }
      ]
    },
    {
      "cell_type": "code",
      "metadata": {
        "colab": {
          "base_uri": "https://localhost:8080/"
        },
        "id": "1MU8UJChpXEC",
        "outputId": "03080a37-ad29-44b6-c2b8-7b88ecc0b5b5"
      },
      "source": [
        "!unzip large_scale.zip\r\n",
        "!unzip large_scale-optimum.zip\r\n",
        "!unzip low-dimensional.zip\r\n",
        "!unzip low-dimensional-optimum.zip"
      ],
      "execution_count": 4,
      "outputs": [
        {
          "output_type": "stream",
          "text": [
            "Archive:  large_scale.zip\n",
            "   creating: large_scale/\n",
            "  inflating: large_scale/knapPI_1_10000_1000_1  \n",
            "  inflating: large_scale/knapPI_1_1000_1000_1  \n",
            "  inflating: large_scale/knapPI_1_100_1000_1  \n",
            "  inflating: large_scale/knapPI_1_2000_1000_1  \n",
            "  inflating: large_scale/knapPI_1_200_1000_1  \n",
            "  inflating: large_scale/knapPI_1_5000_1000_1  \n",
            "  inflating: large_scale/knapPI_1_500_1000_1  \n",
            "  inflating: large_scale/knapPI_2_10000_1000_1  \n",
            "  inflating: large_scale/knapPI_2_1000_1000_1  \n",
            "  inflating: large_scale/knapPI_2_100_1000_1  \n",
            "  inflating: large_scale/knapPI_2_2000_1000_1  \n",
            "  inflating: large_scale/knapPI_2_200_1000_1  \n",
            "  inflating: large_scale/knapPI_2_5000_1000_1  \n",
            "  inflating: large_scale/knapPI_2_500_1000_1  \n",
            "  inflating: large_scale/knapPI_3_10000_1000_1  \n",
            "  inflating: large_scale/knapPI_3_1000_1000_1  \n",
            "  inflating: large_scale/knapPI_3_100_1000_1  \n",
            "  inflating: large_scale/knapPI_3_2000_1000_1  \n",
            "  inflating: large_scale/knapPI_3_200_1000_1  \n",
            "  inflating: large_scale/knapPI_3_5000_1000_1  \n",
            "  inflating: large_scale/knapPI_3_500_1000_1  \n",
            "Archive:  large_scale-optimum.zip\n",
            "   creating: large_scale-optimum/\n",
            "  inflating: large_scale-optimum/knapPI_1_10000_1000_1  \n",
            "  inflating: large_scale-optimum/knapPI_1_1000_1000_1  \n",
            "  inflating: large_scale-optimum/knapPI_1_100_1000_1  \n",
            "  inflating: large_scale-optimum/knapPI_1_2000_1000_1  \n",
            "  inflating: large_scale-optimum/knapPI_1_200_1000_1  \n",
            "  inflating: large_scale-optimum/knapPI_1_5000_1000_1  \n",
            "  inflating: large_scale-optimum/knapPI_1_500_1000_1  \n",
            "  inflating: large_scale-optimum/knapPI_2_10000_1000_1  \n",
            "  inflating: large_scale-optimum/knapPI_2_1000_1000_1  \n",
            "  inflating: large_scale-optimum/knapPI_2_100_1000_1  \n",
            "  inflating: large_scale-optimum/knapPI_2_2000_1000_1  \n",
            "  inflating: large_scale-optimum/knapPI_2_200_1000_1  \n",
            "  inflating: large_scale-optimum/knapPI_2_5000_1000_1  \n",
            "  inflating: large_scale-optimum/knapPI_2_500_1000_1  \n",
            "  inflating: large_scale-optimum/knapPI_3_10000_1000_1  \n",
            "  inflating: large_scale-optimum/knapPI_3_1000_1000_1  \n",
            "  inflating: large_scale-optimum/knapPI_3_100_1000_1  \n",
            "  inflating: large_scale-optimum/knapPI_3_2000_1000_1  \n",
            "  inflating: large_scale-optimum/knapPI_3_200_1000_1  \n",
            "  inflating: large_scale-optimum/knapPI_3_5000_1000_1  \n",
            "  inflating: large_scale-optimum/knapPI_3_500_1000_1  \n",
            "Archive:  low-dimensional.zip\n",
            "   creating: low-dimensional/\n",
            "  inflating: low-dimensional/f10_l-d_kp_20_879  \n",
            "  inflating: low-dimensional/f1_l-d_kp_10_269  \n",
            "  inflating: low-dimensional/f2_l-d_kp_20_878  \n",
            "  inflating: low-dimensional/f3_l-d_kp_4_20  \n",
            "  inflating: low-dimensional/f4_l-d_kp_4_11  \n",
            "  inflating: low-dimensional/f5_l-d_kp_15_375  \n",
            "  inflating: low-dimensional/f6_l-d_kp_10_60  \n",
            "  inflating: low-dimensional/f7_l-d_kp_7_50  \n",
            "  inflating: low-dimensional/f8_l-d_kp_23_10000  \n",
            "  inflating: low-dimensional/f9_l-d_kp_5_80  \n",
            "Archive:  low-dimensional-optimum.zip\n",
            "   creating: low-dimensional-optimum/\n",
            "  inflating: low-dimensional-optimum/f10_l-d_kp_20_879  \n",
            "  inflating: low-dimensional-optimum/f1_l-d_kp_10_269  \n",
            "  inflating: low-dimensional-optimum/f2_l-d_kp_20_878  \n",
            "  inflating: low-dimensional-optimum/f3_l-d_kp_4_20  \n",
            "  inflating: low-dimensional-optimum/f4_l-d_kp_4_11  \n",
            "  inflating: low-dimensional-optimum/f5_l-d_kp_15_375  \n",
            "  inflating: low-dimensional-optimum/f6_l-d_kp_10_60  \n",
            "  inflating: low-dimensional-optimum/f7_l-d_kp_7_50  \n",
            "  inflating: low-dimensional-optimum/f8_l-d_kp_23_10000  \n",
            "  inflating: low-dimensional-optimum/f9_l-d_kp_5_80  \n"
          ],
          "name": "stdout"
        }
      ]
    },
    {
      "cell_type": "code",
      "metadata": {
        "id": "7uqEMsLxqrEG"
      },
      "source": [
        "#importing the necessary modules\r\n",
        "import pandas as pd\r\n",
        "import numpy as np\r\n",
        "import matplotlib.pyplot as plt\r\n",
        "from os import listdir\r\n",
        "from os.path import isfile, join\r\n"
      ],
      "execution_count": 14,
      "outputs": []
    },
    {
      "cell_type": "code",
      "metadata": {
        "id": "ZGKqOjr2quig"
      },
      "source": [
        "#Function to import data from file in proper format\r\n",
        "def import_data():\r\n",
        "    \r\n",
        "       #import data files\r\n",
        "    ls_data= 'large_scale/'\r\n",
        "    ls_optimum= 'large_scale-optimum/'\r\n",
        "    ld_data= 'low-dimensional/'\r\n",
        "    ld_optimum= 'low-dimensional-optimum/'\r\n",
        "\r\n",
        "    #isfile returns true if file exists\r\n",
        "    #listdir lists all the directories in the path\r\n",
        "    #join joins one or more path intelligently\r\n",
        "    ls_files = [f for f in listdir(ls_data) if isfile(join(ls_optimum, f))] \r\n",
        "    ld_files = [f for f in listdir(ld_data) if isfile(join(ld_optimum, f))]\r\n",
        "    \r\n",
        "    #create arrays to store D=datapoints, O=optimum values, M=maximum weights\r\n",
        "    ls_D = []\r\n",
        "    ls_O = []\r\n",
        "    ls_M = []\r\n",
        "    for filename in ls_files :\r\n",
        "       #read data excluding last line (wich is the answer)\r\n",
        "        x = pd.read_csv(ls_data + filename,names=['weight', 'price'], delimiter = ' ', header=None,error_bad_lines=False ) \r\n",
        "        max_w = x.iloc[0]['price']\r\n",
        "        ls_M.append(max_w)\r\n",
        "        ls_D.append(x.iloc[1:-1])\r\n",
        "        y =  pd.read_csv(ls_optimum+filename,names=['optimal'], delimiter = ' ', header=None)\r\n",
        "        ls_O.append(y.iloc[0]['optimal'])\r\n",
        "        \r\n",
        "    ld_D = []\r\n",
        "    ld_O = []\r\n",
        "    ld_M = []\r\n",
        "    for filename in ld_files :\r\n",
        "        #read data excluding last line (wich is the answer)\r\n",
        "        x = pd.read_csv(ld_data+filename,names=['weight', 'price'], delimiter = ' ', header=None,error_bad_lines=False ) \r\n",
        "        max_w = x.iloc[0]['price']\r\n",
        "        ld_M.append(max_w)\r\n",
        "        ld_D.append(x.iloc[1:])\r\n",
        "        y =  pd.read_csv(ld_optimum+filename,names=['optimal'], delimiter = ' ', header=None)\r\n",
        "        ld_O.append(y.iloc[0]['optimal'])\r\n",
        "    \r\n",
        "    return ls_D, ls_O, ls_M, ld_D, ld_O, ld_M"
      ],
      "execution_count": 15,
      "outputs": []
    },
    {
      "cell_type": "code",
      "metadata": {
        "colab": {
          "base_uri": "https://localhost:8080/"
        },
        "id": "yWEL4figqz5U",
        "outputId": "07fe5171-7259-496e-bd77-4ebc61c5568f"
      },
      "source": [
        "#LS = data large scale, consists of hundreds of datatpoints\r\n",
        "#LD = data low dimension, has less than 100 datapoints\r\n",
        "LS_X, LS_Y, LS_W, LD_X, LD_Y, LD_W = import_data()\r\n",
        "\r\n",
        "#select LD first to build up the model (faster execution)\r\n",
        "data_w = LD_W[0] #maximum weight\r\n",
        "data_x = LD_X[0] #datapoints\r\n",
        "data_y = LD_Y[0] #optimum values\r\n",
        "print(\"Data 1:\")\r\n",
        "print(\"Items given are:\")\r\n",
        "print(data_x)\r\n",
        "print(\"Maximum Weight that Knapsack can contain:\")\r\n",
        "print(data_w)\r\n",
        "print(\"Optimal Value is:\")\r\n",
        "print(data_y)\r\n"
      ],
      "execution_count": 16,
      "outputs": [
        {
          "output_type": "stream",
          "text": [
            "Data 1:\n",
            "Items given are:\n",
            "    weight  price\n",
            "1       91     84\n",
            "2       72     83\n",
            "3       90     43\n",
            "4       46      4\n",
            "5       55     44\n",
            "6        8      6\n",
            "7       35     82\n",
            "8       75     92\n",
            "9       61     25\n",
            "10      15     83\n",
            "11      77     56\n",
            "12      40     18\n",
            "13      63     58\n",
            "14      75     14\n",
            "15      29     48\n",
            "16      75     70\n",
            "17      17     96\n",
            "18      78     32\n",
            "19      40     68\n",
            "20      44     92\n",
            "Maximum Weight that Knapsack can contain:\n",
            "879\n",
            "Optimal Value is:\n",
            "1025\n"
          ],
          "name": "stdout"
        }
      ]
    },
    {
      "cell_type": "code",
      "metadata": {
        "colab": {
          "base_uri": "https://localhost:8080/"
        },
        "id": "UDgEQkRcq3kx",
        "outputId": "5c013df0-aede-4261-d108-0e4d1acbdec5"
      },
      "source": [
        "#generate a random solution by choosing items using values between 0 and 1\r\n",
        "sol = np.random.random(len(data_x))\r\n",
        "print(\"\\nArray that represents a random solution:\")\r\n",
        "print(sol)\r\n",
        "\r\n",
        "#discretization so solution array contains only 0 or 1 values\r\n",
        "print(\"Discretization of random solution:\")\r\n",
        "print(np.round(sol).astype(bool))\r\n",
        "\r\n",
        "\r\n",
        "#display info of selected items in a table\r\n",
        "idx = np.arange(len(data_x))\r\n",
        "idx = idx[np.round(sol).astype(bool)]\r\n",
        "carried = data_x.iloc[idx]\r\n",
        "print(\"\\nTable of selected items based on the random solution generated\")\r\n",
        "sprint(carried)"
      ],
      "execution_count": 17,
      "outputs": [
        {
          "output_type": "stream",
          "text": [
            "\n",
            "Array that represents a random solution:\n",
            "[0.39708263 0.22638583 0.21249439 0.98052321 0.41289627 0.93209991\n",
            " 0.40519179 0.59266952 0.19146566 0.22326001 0.43214691 0.54042706\n",
            " 0.35975461 0.81823031 0.74255157 0.02033408 0.90648919 0.65008974\n",
            " 0.56354496 0.5038884 ]\n",
            "Discretization of random solution:\n",
            "[False False False  True False  True False  True False False False  True\n",
            " False  True  True False  True  True  True  True]\n",
            "\n",
            "Table of selected items based on the random solution generated\n",
            "    weight  price\n",
            "4       46      4\n",
            "6        8      6\n",
            "8       75     92\n",
            "12      40     18\n",
            "14      75     14\n",
            "15      29     48\n",
            "17      17     96\n",
            "18      78     32\n",
            "19      40     68\n",
            "20      44     92\n"
          ],
          "name": "stdout"
        }
      ]
    },
    {
      "cell_type": "code",
      "metadata": {
        "id": "KptbB8juq5fW"
      },
      "source": [
        "#Fitness Function\r\n",
        "def fit(sol, data, max_w) :\r\n",
        "    #Discretization\r\n",
        "    mask = np.round(sol).astype(bool)\r\n",
        "    \r\n",
        "    #decode\r\n",
        "    idx = np.arange(len(data))\r\n",
        "    idx = idx[mask]\r\n",
        "    data_solution = data.iloc[idx] #arranges solution in a table to view\r\n",
        "\r\n",
        "    \r\n",
        "    #price \r\n",
        "    price = np.sum(data_solution['price'])\r\n",
        "    weight = np.sum(data_solution['weight']) \r\n",
        "    if weight <= max_w:\r\n",
        "        return price\r\n",
        "    else :\r\n",
        "        return 0\r\n"
      ],
      "execution_count": 18,
      "outputs": []
    },
    {
      "cell_type": "code",
      "metadata": {
        "id": "1lysEJIAq7PX"
      },
      "source": [
        "#Bat Class\r\n",
        "class bat:\r\n",
        "    def __init__(self, population, data, max_w, fmin, fmax, A, alpha, gamma):\r\n",
        "        self.population = population #population\r\n",
        "        self.data = data #data\r\n",
        "        self.max_w = max_w #maximum weight\r\n",
        "        self.fmin = fmin #minimim frequecy \r\n",
        "        self.fmax = fmax #maximum frequency\r\n",
        "        self.A = A #loudness\r\n",
        "        self.alpha = alpha #pulse frequency\r\n",
        "        self.gamma = gamma #coefficent of pulse emission\r\n",
        "        self.data_size = len(data)\r\n",
        "        self.best_sol = None\r\n",
        "        self.t = 1 #iteration \r\n",
        "        \r\n",
        "        #to generate random values to bats\r\n",
        "        self.init_x() \r\n",
        "        self.init_f() \r\n",
        "        self.init_v() \r\n",
        "        self.init_y() \r\n",
        "        self.init_r()\r\n",
        "                \r\n",
        "    def init_x (self): #to generate random positions for bats\r\n",
        "        self.solutions =  np.random.random((self.population,self.data_size)) # (self.population * self.data_size) array of random numbers\r\n",
        "        \r\n",
        "    def init_f (self):#to generate random frequencies for bats\r\n",
        "        self.f = np.random.uniform(self.fmin,self.fmax,self.population) #give uniform self.population no.of random numbers between fmin and fmax\r\n",
        "\r\n",
        "    def init_v (self): #to generate random velocities for bats\r\n",
        "        self.v = np.zeros((self.population, self.data_size)) #zero array of (self.population * self.data_size)\r\n",
        "\r\n",
        "    def init_y (self):\r\n",
        "        Y = np.zeros(len(self.solutions)) #zero array of self.solutions length\r\n",
        "        for i,sol in enumerate(self.solutions) : \r\n",
        "            Y[i] = fit(sol,self.data, self.max_w)  #to find current solution\r\n",
        "        \r\n",
        "        self.Y = Y\r\n",
        " \r\n",
        "    def init_r (self): #generate random pulse rates\r\n",
        "        self.r = np.random.random(self.population)\r\n",
        "        self.r0 = self.r\r\n",
        "        \r\n",
        "    \r\n",
        "    def update_f(self): #to update frequency of bats\r\n",
        "        self.fmin = np.min(self.f)\r\n",
        "        self.fmax = np.max(self.f)\r\n",
        "        betha = np.random.random(len(self.f))\r\n",
        "        self.f = betha*(self.fmax-self.fmin) + self.fmin\r\n",
        "    \r\n",
        "    def update_v(self): #to update velocity of bats\r\n",
        "        self.find_best_solution()\r\n",
        "        r = (self.solutions - self.best_sol)\r\n",
        "        rr = [r[i] * self.f[i] for i in range(len(r))] \r\n",
        "        \r\n",
        "        self.v = self.v + rr\r\n",
        "        self.normalize_v()\r\n",
        "    \r\n",
        "    def update_x(self): #update position of bats\r\n",
        "        self.solutions += self.v\r\n",
        "        self.normalize_solution()\r\n",
        "        self.update_y()\r\n",
        "        self.localsearch()\r\n",
        "        self.update_y\r\n",
        "        self.find_best_solution()\r\n",
        "        \r\n",
        "    def update_A(self): #update loudness\r\n",
        "        self.A = self.A * self.alpha\r\n",
        "    \r\n",
        "    def update_r(self): #update pulse rate\r\n",
        "        self.r = self.r0 * (1- np.exp(-self.gamma*self.t))\r\n",
        "        self.t += 1\r\n",
        "    \r\n",
        "    def update_y(self): #to update the current solution\r\n",
        "        Y = np.zeros(len(self.solutions))\r\n",
        "        for i,sol in enumerate(self.solutions) : \r\n",
        "            Y[i] = fit(sol,self.data, self.max_w)\r\n",
        "        self.Y = Y\r\n",
        "\r\n",
        "    \r\n",
        "    def find_best_solution(self): #to find best solution\r\n",
        "        self.best_sol = self.solutions[np.argmax(self.Y)]\r\n",
        "        \r\n",
        "    def normalize_solution(self):  #to normalize the solution\r\n",
        "#         self.solutions = np.absolute(self.solutions / (np.max(self.solutions) - np.min(self.solutions)))\r\n",
        "        self.solutions[self.solutions > 1] = 1\r\n",
        "        self.solutions[self.solutions < 0] = 0\r\n",
        "        \r\n",
        "    def normalize_v(self): \r\n",
        "        self.v = np.sin(self.v) #sin value of v\r\n",
        "            \r\n",
        "    def extract_solution(self):\r\n",
        "        #Discretization\r\n",
        "        mask = np.round(self.best_sol).astype(bool) #round off the solution\r\n",
        "\r\n",
        "        #decode\r\n",
        "        idx = np.arange(len(self.data))\r\n",
        "        idx = idx[mask]\r\n",
        "        data_solution = self.data.iloc[idx] \r\n",
        "\r\n",
        "        return data_solution\r\n",
        "        \r\n",
        "    def mutate(self,x):\r\n",
        "        size = len(x)\r\n",
        "        sizex = size//5\r\n",
        "        idx = np.random.permutation(size)[:sizex]\r\n",
        "\r\n",
        "        x[idx] = 1-x[idx]\r\n",
        "\r\n",
        "        return x\r\n",
        "    \r\n",
        "    def localsearch(self): \r\n",
        "        idxm = np.where(self.Y == 0)\r\n",
        "        cm = self.solutions[ idxm ]\r\n",
        "        for i in range(len(cm)): \r\n",
        "            cm[i] = self.mutate(cm[i])\r\n",
        "        \r\n",
        "        self.solutions[idxm] = cm\r\n",
        "        "
      ],
      "execution_count": 27,
      "outputs": []
    },
    {
      "cell_type": "code",
      "metadata": {
        "colab": {
          "base_uri": "https://localhost:8080/"
        },
        "id": "KtwaV-FCq-uL",
        "outputId": "91b0d9d4-611b-4538-f9ea-c94d2de32f9c"
      },
      "source": [
        "# Bat Algorithm parameters \r\n",
        "fmin = 0\r\n",
        "fmax = 1\r\n",
        "A = 1\r\n",
        "alpha = 0.98\r\n",
        "gamma = 0.98\r\n",
        "population = 75\r\n",
        "epoch = 25 #generation\r\n",
        "\r\n",
        "\r\n",
        "#Selecting DLD\r\n",
        "data_w = LS_W[4] #maximum weight\r\n",
        "data_x = LS_X[4] #datapoints\r\n",
        "data_y = LS_Y[4] #optimum values\r\n",
        "print(\"Data 2:\")\r\n",
        "print(\"Items given are:\")\r\n",
        "print(data_x)\r\n",
        "print(\"Maximum Weight that Knapsack can contain:\")\r\n",
        "print(data_w)\r\n",
        "print(\"Optimal Value is:\")\r\n",
        "print(data_y)\r\n"
      ],
      "execution_count": 28,
      "outputs": [
        {
          "output_type": "stream",
          "text": [
            "Data 2:\n",
            "Items given are:\n",
            "      weight  price\n",
            "1         94    485\n",
            "2        506    326\n",
            "3        416    248\n",
            "4        992    421\n",
            "5        649    322\n",
            "...      ...    ...\n",
            "996      949    336\n",
            "997       89    931\n",
            "998      488    588\n",
            "999      568    449\n",
            "1000     526    566\n",
            "\n",
            "[1000 rows x 2 columns]\n",
            "Maximum Weight that Knapsack can contain:\n",
            "5002\n",
            "Optimal Value is:\n",
            "54503\n"
          ],
          "name": "stdout"
        }
      ]
    },
    {
      "cell_type": "code",
      "metadata": {
        "colab": {
          "base_uri": "https://localhost:8080/"
        },
        "id": "IUyhN4qXrC3E",
        "outputId": "413cf79b-3106-471c-d311-0bd8cbc1920a"
      },
      "source": [
        "data_w = LD_W[8] #maximum weight\r\n",
        "data_x = LD_X[8] #datapoints\r\n",
        "data_y = LD_Y[8] #optimum values\r\n",
        "print(\"Data 3:\")\r\n",
        "print(\"Items given are:\")\r\n",
        "print(data_x)\r\n",
        "print(\"Maximum Weight that Knapsack can contain:\")\r\n",
        "print(data_w)\r\n",
        "print(\"Optimal Value is:\")\r\n",
        "print(data_y)\r\n"
      ],
      "execution_count": 29,
      "outputs": [
        {
          "output_type": "stream",
          "text": [
            "Data 3:\n",
            "Items given are:\n",
            "   weight  price\n",
            "1      33     15\n",
            "2      24     20\n",
            "3      36     17\n",
            "4      37      8\n",
            "5      12     31\n",
            "Maximum Weight that Knapsack can contain:\n",
            "80\n",
            "Optimal Value is:\n",
            "130\n"
          ],
          "name": "stdout"
        }
      ]
    },
    {
      "cell_type": "code",
      "metadata": {
        "id": "5_dI4Dh4rE2V"
      },
      "source": [
        "solution = []\r\n",
        "acc = []\r\n",
        "bat_behaviour = []\r\n",
        "for loop in range(30):\r\n",
        "    localSolution = []\r\n",
        "    bats = bat(population,data_x,data_w,fmin,fmax,A,alpha,gamma)\r\n",
        "    for i in range(epoch):\r\n",
        "        bats.update_f()\r\n",
        "        bats.update_v()\r\n",
        "        bats.update_x()    \r\n",
        "        bats.update_r()\r\n",
        "        localSolution.append(np.max(bats.Y))\r\n",
        "#         if (i==epoch-1):\r\n",
        "    bat_behaviour.append(np.average(bats.Y))\r\n",
        "    solution.append(sum(localSolution)/len(localSolution))\r\n",
        "    acc.append((sum(localSolution)/len(localSolution))/data_y)\r\n",
        "   \r\n",
        "averageSolution = sum(solution)/len(solution)"
      ],
      "execution_count": 30,
      "outputs": []
    },
    {
      "cell_type": "code",
      "metadata": {
        "colab": {
          "base_uri": "https://localhost:8080/",
          "height": 197
        },
        "id": "JEwUTBpNrJUy",
        "outputId": "7add0696-38c5-4581-f137-48758f211232"
      },
      "source": [
        "# plt.figure(figsize=(13,5))\r\n",
        "plt.figure(1)\r\n",
        "plt.subplot(211)\r\n",
        "plt.plot(solution, \"go--\")\r\n",
        "plt.title('Average Solution')\r\n",
        "averageAcc = (sum(acc)/len(solution))*100\r\n",
        "print (\"Average accuracy of Data 3 equal to\",'%.3f' % averageAcc, ' %')\r\n",
        "print (\"with an average solution equal to\",'%.3f' % averageSolution, \" from \", data_y)\r\n",
        "# plt.show()\r\n",
        "\r\n"
      ],
      "execution_count": 31,
      "outputs": [
        {
          "output_type": "stream",
          "text": [
            "Average accuracy of Data 3 equal to 51.615  %\n",
            "with an average solution equal to 67.100  from  130\n"
          ],
          "name": "stdout"
        },
        {
          "output_type": "display_data",
          "data": {
            "image/png": "[encoded data removed]",
            "text/plain": [
              "<Figure size 432x288 with 1 Axes>"
            ]
          },
          "metadata": {
            "tags": [],
            "needs_background": "light"
          }
        }
      ]
    },
    {
      "cell_type": "code",
      "metadata": {
        "colab": {
          "base_uri": "https://localhost:8080/",
          "height": 192
        },
        "id": "kolFLc8CrLHf",
        "outputId": "8ff4e407-b5f8-405f-ea25-a019c2ca4b5f"
      },
      "source": [
        "# plt.figure(figsize=(13,5))\r\n",
        "plt.subplot(212)\r\n",
        "plt.plot(bat_behaviour, \"ro--\")\r\n",
        "plt.title('Average Behaviour of Bat')\r\n",
        "plt.tight_layout()\r\n",
        "plt.show()\r\n",
        "print (\"with an average behaviour of bat colony equal to\",'%.3f' % np.average(bat_behaviour))"
      ],
      "execution_count": 32,
      "outputs": [
        {
          "output_type": "display_data",
          "data": {
            "image/png": "[encoded data removed]",
            "text/plain": [
              "<Figure size 432x288 with 1 Axes>"
            ]
          },
          "metadata": {
            "tags": [],
            "needs_background": "light"
          }
        },
        {
          "output_type": "stream",
          "text": [
            "with an average behaviour of bat colony equal to 22.150\n"
          ],
          "name": "stdout"
        }
      ]
    }
  ]
}